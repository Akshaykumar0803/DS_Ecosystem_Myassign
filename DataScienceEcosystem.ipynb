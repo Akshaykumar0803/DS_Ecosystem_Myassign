{
 "cells": [
  {
   "cell_type": "markdown",
   "id": "a77ed59b",
   "metadata": {},
   "source": [
    "# Data Science Tools and Ecosystem"
   ]
  },
  {
   "cell_type": "markdown",
   "id": "22cc97ed",
   "metadata": {},
   "source": [
    "In this notebook, Data Science Tools and Ecosystem are summarized."
   ]
  },
  {
   "cell_type": "markdown",
   "id": "98e7edc5",
   "metadata": {},
   "source": [
    "**OBJECTIVES:**<br>\n",
    "\n",
    "-List popular languages that Data Scientists use.<br>\n",
    "-List commonly used libraries used by Data Scientists.<br>\n",
    "-Comment on Data Science tools.<br>"
   ]
  },
  {
   "cell_type": "markdown",
   "id": "d15140c8",
   "metadata": {},
   "source": [
    "**Some of the popular languages that Data Scientists use are:**<br>\n",
    "  1: python<br>\n",
    "  2: R.<br>\n",
    "  3: SQL."
   ]
  },
  {
   "cell_type": "markdown",
   "id": "da3091a0",
   "metadata": {},
   "source": [
    "**Some of the commonly used libraries used by Data Scientists include:**<br>\n",
    "  1:Pandas<br>\n",
    "  2:NumPy<br>\n",
    "  3:SciPy<br>"
   ]
  },
  {
   "cell_type": "markdown",
   "id": "82c6c9a5",
   "metadata": {},
   "source": [
    "**Data science tools**<br>\n",
    "  1:Jupyter Notebook<br>\n",
    "  2:R Studio<br>\n",
    "  3:Apache spark<br>"
   ]
  },
  {
   "cell_type": "markdown",
   "id": "2e6cdad2",
   "metadata": {},
   "source": [
    "**Below are a few examples of evaluating arithmetic expressions in Python:**\n",
    "\n",
    "    Addition(+):\n",
    "        result_addition = 5 + 3\n",
    "        print(result_addition)  \n",
    "        Output: 8\n",
    "        \n",
    "    Subtraction(-):\n",
    "        result_subtraction = 10 - 4\n",
    "        print(result_subtraction)  \n",
    "        Output: 6\n",
    "\n",
    "    Multiplication(*):\n",
    "        result_multiplication = 7 * 6\n",
    "        print(result_multiplication)  \n",
    "        Output: 42\n",
    "\n",
    "    Division(/):\n",
    "        result_division = 20 / 4\n",
    "        print(result_division)  \n",
    "        Output: 5.0"
   ]
  },
  {
   "cell_type": "code",
   "execution_count": 1,
   "id": "ac207226",
   "metadata": {},
   "outputs": [
    {
     "data": {
      "text/plain": [
       "17"
      ]
     },
     "execution_count": 1,
     "metadata": {},
     "output_type": "execute_result"
    }
   ],
   "source": [
    "#This a simple arithmetic expression to mutiply then add integers\n",
    "(3*4)+5"
   ]
  },
  {
   "cell_type": "code",
   "execution_count": 2,
   "id": "25084493",
   "metadata": {},
   "outputs": [
    {
     "name": "stdout",
     "output_type": "stream",
     "text": [
      "3.3333333333333335\n"
     ]
    }
   ],
   "source": [
    "#This will convert 200 minutes to hours by diving by 60\n",
    "minutes=200\n",
    "hours=minutes/60\n",
    "print(hours)"
   ]
  },
  {
   "cell_type": "markdown",
   "id": "7f26c4b1",
   "metadata": {},
   "source": [
    "**Author:**<br>\n",
    "Akshay kumar"
   ]
  }
 ],
 "metadata": {
  "kernelspec": {
   "display_name": "Python 3 (ipykernel)",
   "language": "python",
   "name": "python3"
  },
  "language_info": {
   "codemirror_mode": {
    "name": "ipython",
    "version": 3
   },
   "file_extension": ".py",
   "mimetype": "text/x-python",
   "name": "python",
   "nbconvert_exporter": "python",
   "pygments_lexer": "ipython3",
   "version": "3.11.5"
  }
 },
 "nbformat": 4,
 "nbformat_minor": 5
}
